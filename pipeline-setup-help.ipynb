{
 "cells": [
  {
   "cell_type": "markdown",
   "metadata": {},
   "source": [
    "# get postgres image\n",
    "\n",
    "`docker pull postgres`\n",
    "\n",
    "# run the docker-compose.yaml to create the postgres instance, duel db and schema\n",
    "`docker compose up -d`"
   ]
  },
  {
   "cell_type": "markdown",
   "metadata": {},
   "source": [
    "# get postgres image\n",
    "\n",
    "`docker pull postgres`\n",
    "\n",
    "# create the postgres instance:\n",
    "\n",
    "`docker run --name testpg -e POSTGRES_PASSWORD=pass -p 5432:5432 -d postgres`\n",
    "\n",
    "# connect to the pg instance:\n",
    "\n",
    "`docker exec -it testpg psql -U postgres`\n",
    "\n",
    "# create a duel db:\n",
    "\n",
    "`docker exec -it testpg psql -U postgres -c \"CREATE DATABASE duel;\"`\n",
    "\n",
    "`docker exec -it testpg psql -U postgres -c \"GRANT ALL PRIVILEGES ON DATABASE duel TO postgres;\"` \n",
    "\n",
    "`docker exec -it testpg psql -U postgres -d duel -c \"CREATE SCHEMA dbt;\"`\n",
    "\n",
    "# install dbt-core and the postgres connector\n",
    "\n",
    "`python -m pip install dbt-core dbt-postgres`\n",
    "\n",
    "# init the db:\n",
    "\n",
    "`dbt init` \n",
    "\n",
    "(this should be done later in docker compose in a postgres init file)\n",
    "\n",
    "1 for postgres\n",
    "host: 127.0.0.1\n",
    "port: 5432\n",
    "user: postgres\n",
    "pass: pass\n",
    "db name: duel\n",
    "schema: dbt & raw\n",
    "threads: 1\n",
    "\n",
    "# test:\n",
    "\n",
    "navigate terminal to the duel-dbt folder\n",
    "`dbt debug`"
   ]
  },
  {
   "cell_type": "markdown",
   "metadata": {},
   "source": [
    "Docker compose:\n",
    "docker compose down\n",
    "docker compose up -d"
   ]
  },
  {
   "cell_type": "markdown",
   "metadata": {},
   "source": []
  }
 ],
 "metadata": {
  "language_info": {
   "name": "python"
  }
 },
 "nbformat": 4,
 "nbformat_minor": 2
}
